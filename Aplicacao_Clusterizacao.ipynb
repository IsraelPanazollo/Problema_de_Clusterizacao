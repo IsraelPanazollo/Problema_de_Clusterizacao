{
  "nbformat": 4,
  "nbformat_minor": 0,
  "metadata": {
    "colab": {
      "provenance": [],
      "authorship_tag": "ABX9TyPA9Kw3wFT/BUSttV2ZTWKf",
      "include_colab_link": true
    },
    "kernelspec": {
      "name": "python3",
      "display_name": "Python 3"
    },
    "language_info": {
      "name": "python"
    }
  },
  "cells": [
    {
      "cell_type": "markdown",
      "metadata": {
        "id": "view-in-github",
        "colab_type": "text"
      },
      "source": [
        "<a href=\"https://colab.research.google.com/github/IsraelPanazollo/Problema_de_Clusterizacao/blob/main/Aplicacao_Clusterizacao.ipynb\" target=\"_parent\"><img src=\"https://colab.research.google.com/assets/colab-badge.svg\" alt=\"Open In Colab\"/></a>"
      ]
    },
    {
      "cell_type": "markdown",
      "source": [
        "***\n",
        "# <font color=green size=10>APLICAÇÃO DE  CLUSTERIZAÇÃO</font>\n",
        "***"
      ],
      "metadata": {
        "id": "_84Fdumi4_cD"
      }
    },
    {
      "cell_type": "markdown",
      "source": [
        "# Importação das Bibliotecas"
      ],
      "metadata": {
        "id": "B6UikuJf5DBb"
      }
    },
    {
      "cell_type": "code",
      "execution_count": 1,
      "metadata": {
        "id": "IJNXrLiC3v3k"
      },
      "outputs": [],
      "source": [
        "import pandas as pd\n",
        "import numpy as np\n",
        "import seaborn as sns\n",
        "import matplotlib.pyplot as plt\n",
        "import sklearn"
      ]
    },
    {
      "cell_type": "markdown",
      "source": [
        "## Verificação das versões"
      ],
      "metadata": {
        "id": "ND3t75sR5HZG"
      }
    },
    {
      "cell_type": "code",
      "source": [
        "print('Versão do pandas -> %s' % pd.__version__)\n",
        "print('Versão do numpy -> %s' % np.__version__)\n",
        "print('Versão do seaborn -> %s' % sns.__version__)\n",
        "print('Versão do sklearn -> %s' % sklearn.__version__)"
      ],
      "metadata": {
        "colab": {
          "base_uri": "https://localhost:8080/"
        },
        "id": "gBW_3pUp5KFi",
        "outputId": "70e98ece-d6be-41b0-c95e-8e337940688b"
      },
      "execution_count": 2,
      "outputs": [
        {
          "output_type": "stream",
          "name": "stdout",
          "text": [
            "Versão do pandas -> 2.0.3\n",
            "Versão do numpy -> 1.25.2\n",
            "Versão do seaborn -> 0.13.1\n",
            "Versão do sklearn -> 1.2.2\n"
          ]
        }
      ]
    },
    {
      "cell_type": "markdown",
      "source": [
        "# Exploração os dados"
      ],
      "metadata": {
        "id": "cJRHP8xi5UBY"
      }
    },
    {
      "cell_type": "markdown",
      "source": [
        "## Carregar os dados"
      ],
      "metadata": {
        "id": "qiwtXoUbCroj"
      }
    },
    {
      "cell_type": "markdown",
      "source": [
        "O dataset possui as informações de uso de cartão de crédito de diversos clientes. A seguir está o que cada coluna representa:\n",
        "\n",
        "* CUST_ID: Identificação do titular do cartão de crédito (categórica)\n",
        "* BALANCE: Valor do saldo restante em sua conta para fazer compras\n",
        "* BALANCE_FREQUENCY: frequência com que o saldo é atualizado, pontuação entre 0 e 1 (1 = atualizado com frequência, 0 = atualizado pouco frequentemente)\n",
        "* PURCHASES: Quantidade de compras feitas na conta\n",
        "* ONEOFF_PURCHASES: valor máximo de compra feita de uma só vez\n",
        "* INSTALLMENTS_PURCHASES : Valor da compra parcelada\n",
        "* CASH_ADVANCE: Adiantamento em dinheiro dado pelo usuário\n",
        "* PURCHASES_FREQUENCY: Com que frequência as compras estão sendo feitas, pontuação entre 0 e 1 (1 = comprada com frequência, 0 = comprada com pouca frequência)\n",
        "* ONEOFFPURCHASESFREQUENCY: com que frequência as compras acontecem de uma só vez (1 = compradas com frequência, 0 = compradas com pouca frequência)\n",
        "* PURCHASESINSTALLMENTSFREQUENCY : Com que frequência as compras parceladas estão sendo feitas (1 = feitas com frequência, 0 = raramente feitas)\n",
        "* CASHADVANCEFREQUENCY: Com que frequência o adiantamento em dinheiro é pago\n",
        "* CASHADVANCETRX: Número de transações realizadas com “Cash in Advanced”\n",
        "* PURCHASES_TRX: Número de transações de compra realizadas\n",
        "* CREDIT_LIMIT: Limite de cartão de crédito por usuário\n",
        "* PAYMENTS: Valor do pagamento feito pelo usuário\n",
        "* MINIMUM_PAYMENTS: valor mínimo de pagamentos feitos pelo usuário\n",
        "* PRCFULLPAYMENT: Porcentagem do pagamento integral pago pelo usuário\n",
        "* TENURE: Posse do serviço de cartão de crédito para uso\n",
        "\n",
        "\n"
      ],
      "metadata": {
        "id": "l0pxACpn5XMt"
      }
    },
    {
      "cell_type": "code",
      "source": [
        "dados = pd.read_csv(\"CC GENERAL.csv\")"
      ],
      "metadata": {
        "id": "LELym48K5Wse"
      },
      "execution_count": 3,
      "outputs": []
    },
    {
      "cell_type": "code",
      "source": [
        "dados.head()"
      ],
      "metadata": {
        "colab": {
          "base_uri": "https://localhost:8080/",
          "height": 226
        },
        "id": "LDyrTwC_9GH2",
        "outputId": "0b23ef6d-35a2-4ced-b386-b053360fd8b8"
      },
      "execution_count": 4,
      "outputs": [
        {
          "output_type": "execute_result",
          "data": {
            "text/plain": [
              "  CUST_ID      BALANCE  BALANCE_FREQUENCY  PURCHASES  ONEOFF_PURCHASES  \\\n",
              "0  C10001    40.900749           0.818182      95.40              0.00   \n",
              "1  C10002  3202.467416           0.909091       0.00              0.00   \n",
              "2  C10003  2495.148862           1.000000     773.17            773.17   \n",
              "3  C10004  1666.670542           0.636364    1499.00           1499.00   \n",
              "4  C10005   817.714335           1.000000      16.00             16.00   \n",
              "\n",
              "   INSTALLMENTS_PURCHASES  CASH_ADVANCE  PURCHASES_FREQUENCY  \\\n",
              "0                    95.4      0.000000             0.166667   \n",
              "1                     0.0   6442.945483             0.000000   \n",
              "2                     0.0      0.000000             1.000000   \n",
              "3                     0.0    205.788017             0.083333   \n",
              "4                     0.0      0.000000             0.083333   \n",
              "\n",
              "   ONEOFF_PURCHASES_FREQUENCY  PURCHASES_INSTALLMENTS_FREQUENCY  \\\n",
              "0                    0.000000                          0.083333   \n",
              "1                    0.000000                          0.000000   \n",
              "2                    1.000000                          0.000000   \n",
              "3                    0.083333                          0.000000   \n",
              "4                    0.083333                          0.000000   \n",
              "\n",
              "   CASH_ADVANCE_FREQUENCY  CASH_ADVANCE_TRX  PURCHASES_TRX  CREDIT_LIMIT  \\\n",
              "0                0.000000                 0              2        1000.0   \n",
              "1                0.250000                 4              0        7000.0   \n",
              "2                0.000000                 0             12        7500.0   \n",
              "3                0.083333                 1              1        7500.0   \n",
              "4                0.000000                 0              1        1200.0   \n",
              "\n",
              "      PAYMENTS  MINIMUM_PAYMENTS  PRC_FULL_PAYMENT  TENURE  \n",
              "0   201.802084        139.509787          0.000000      12  \n",
              "1  4103.032597       1072.340217          0.222222      12  \n",
              "2   622.066742        627.284787          0.000000      12  \n",
              "3     0.000000               NaN          0.000000      12  \n",
              "4   678.334763        244.791237          0.000000      12  "
            ],
            "text/html": [
              "\n",
              "  <div id=\"df-8c4780c7-ea28-4f3a-809e-b5e567df647e\" class=\"colab-df-container\">\n",
              "    <div>\n",
              "<style scoped>\n",
              "    .dataframe tbody tr th:only-of-type {\n",
              "        vertical-align: middle;\n",
              "    }\n",
              "\n",
              "    .dataframe tbody tr th {\n",
              "        vertical-align: top;\n",
              "    }\n",
              "\n",
              "    .dataframe thead th {\n",
              "        text-align: right;\n",
              "    }\n",
              "</style>\n",
              "<table border=\"1\" class=\"dataframe\">\n",
              "  <thead>\n",
              "    <tr style=\"text-align: right;\">\n",
              "      <th></th>\n",
              "      <th>CUST_ID</th>\n",
              "      <th>BALANCE</th>\n",
              "      <th>BALANCE_FREQUENCY</th>\n",
              "      <th>PURCHASES</th>\n",
              "      <th>ONEOFF_PURCHASES</th>\n",
              "      <th>INSTALLMENTS_PURCHASES</th>\n",
              "      <th>CASH_ADVANCE</th>\n",
              "      <th>PURCHASES_FREQUENCY</th>\n",
              "      <th>ONEOFF_PURCHASES_FREQUENCY</th>\n",
              "      <th>PURCHASES_INSTALLMENTS_FREQUENCY</th>\n",
              "      <th>CASH_ADVANCE_FREQUENCY</th>\n",
              "      <th>CASH_ADVANCE_TRX</th>\n",
              "      <th>PURCHASES_TRX</th>\n",
              "      <th>CREDIT_LIMIT</th>\n",
              "      <th>PAYMENTS</th>\n",
              "      <th>MINIMUM_PAYMENTS</th>\n",
              "      <th>PRC_FULL_PAYMENT</th>\n",
              "      <th>TENURE</th>\n",
              "    </tr>\n",
              "  </thead>\n",
              "  <tbody>\n",
              "    <tr>\n",
              "      <th>0</th>\n",
              "      <td>C10001</td>\n",
              "      <td>40.900749</td>\n",
              "      <td>0.818182</td>\n",
              "      <td>95.40</td>\n",
              "      <td>0.00</td>\n",
              "      <td>95.4</td>\n",
              "      <td>0.000000</td>\n",
              "      <td>0.166667</td>\n",
              "      <td>0.000000</td>\n",
              "      <td>0.083333</td>\n",
              "      <td>0.000000</td>\n",
              "      <td>0</td>\n",
              "      <td>2</td>\n",
              "      <td>1000.0</td>\n",
              "      <td>201.802084</td>\n",
              "      <td>139.509787</td>\n",
              "      <td>0.000000</td>\n",
              "      <td>12</td>\n",
              "    </tr>\n",
              "    <tr>\n",
              "      <th>1</th>\n",
              "      <td>C10002</td>\n",
              "      <td>3202.467416</td>\n",
              "      <td>0.909091</td>\n",
              "      <td>0.00</td>\n",
              "      <td>0.00</td>\n",
              "      <td>0.0</td>\n",
              "      <td>6442.945483</td>\n",
              "      <td>0.000000</td>\n",
              "      <td>0.000000</td>\n",
              "      <td>0.000000</td>\n",
              "      <td>0.250000</td>\n",
              "      <td>4</td>\n",
              "      <td>0</td>\n",
              "      <td>7000.0</td>\n",
              "      <td>4103.032597</td>\n",
              "      <td>1072.340217</td>\n",
              "      <td>0.222222</td>\n",
              "      <td>12</td>\n",
              "    </tr>\n",
              "    <tr>\n",
              "      <th>2</th>\n",
              "      <td>C10003</td>\n",
              "      <td>2495.148862</td>\n",
              "      <td>1.000000</td>\n",
              "      <td>773.17</td>\n",
              "      <td>773.17</td>\n",
              "      <td>0.0</td>\n",
              "      <td>0.000000</td>\n",
              "      <td>1.000000</td>\n",
              "      <td>1.000000</td>\n",
              "      <td>0.000000</td>\n",
              "      <td>0.000000</td>\n",
              "      <td>0</td>\n",
              "      <td>12</td>\n",
              "      <td>7500.0</td>\n",
              "      <td>622.066742</td>\n",
              "      <td>627.284787</td>\n",
              "      <td>0.000000</td>\n",
              "      <td>12</td>\n",
              "    </tr>\n",
              "    <tr>\n",
              "      <th>3</th>\n",
              "      <td>C10004</td>\n",
              "      <td>1666.670542</td>\n",
              "      <td>0.636364</td>\n",
              "      <td>1499.00</td>\n",
              "      <td>1499.00</td>\n",
              "      <td>0.0</td>\n",
              "      <td>205.788017</td>\n",
              "      <td>0.083333</td>\n",
              "      <td>0.083333</td>\n",
              "      <td>0.000000</td>\n",
              "      <td>0.083333</td>\n",
              "      <td>1</td>\n",
              "      <td>1</td>\n",
              "      <td>7500.0</td>\n",
              "      <td>0.000000</td>\n",
              "      <td>NaN</td>\n",
              "      <td>0.000000</td>\n",
              "      <td>12</td>\n",
              "    </tr>\n",
              "    <tr>\n",
              "      <th>4</th>\n",
              "      <td>C10005</td>\n",
              "      <td>817.714335</td>\n",
              "      <td>1.000000</td>\n",
              "      <td>16.00</td>\n",
              "      <td>16.00</td>\n",
              "      <td>0.0</td>\n",
              "      <td>0.000000</td>\n",
              "      <td>0.083333</td>\n",
              "      <td>0.083333</td>\n",
              "      <td>0.000000</td>\n",
              "      <td>0.000000</td>\n",
              "      <td>0</td>\n",
              "      <td>1</td>\n",
              "      <td>1200.0</td>\n",
              "      <td>678.334763</td>\n",
              "      <td>244.791237</td>\n",
              "      <td>0.000000</td>\n",
              "      <td>12</td>\n",
              "    </tr>\n",
              "  </tbody>\n",
              "</table>\n",
              "</div>\n",
              "    <div class=\"colab-df-buttons\">\n",
              "\n",
              "  <div class=\"colab-df-container\">\n",
              "    <button class=\"colab-df-convert\" onclick=\"convertToInteractive('df-8c4780c7-ea28-4f3a-809e-b5e567df647e')\"\n",
              "            title=\"Convert this dataframe to an interactive table.\"\n",
              "            style=\"display:none;\">\n",
              "\n",
              "  <svg xmlns=\"http://www.w3.org/2000/svg\" height=\"24px\" viewBox=\"0 -960 960 960\">\n",
              "    <path d=\"M120-120v-720h720v720H120Zm60-500h600v-160H180v160Zm220 220h160v-160H400v160Zm0 220h160v-160H400v160ZM180-400h160v-160H180v160Zm440 0h160v-160H620v160ZM180-180h160v-160H180v160Zm440 0h160v-160H620v160Z\"/>\n",
              "  </svg>\n",
              "    </button>\n",
              "\n",
              "  <style>\n",
              "    .colab-df-container {\n",
              "      display:flex;\n",
              "      gap: 12px;\n",
              "    }\n",
              "\n",
              "    .colab-df-convert {\n",
              "      background-color: #E8F0FE;\n",
              "      border: none;\n",
              "      border-radius: 50%;\n",
              "      cursor: pointer;\n",
              "      display: none;\n",
              "      fill: #1967D2;\n",
              "      height: 32px;\n",
              "      padding: 0 0 0 0;\n",
              "      width: 32px;\n",
              "    }\n",
              "\n",
              "    .colab-df-convert:hover {\n",
              "      background-color: #E2EBFA;\n",
              "      box-shadow: 0px 1px 2px rgba(60, 64, 67, 0.3), 0px 1px 3px 1px rgba(60, 64, 67, 0.15);\n",
              "      fill: #174EA6;\n",
              "    }\n",
              "\n",
              "    .colab-df-buttons div {\n",
              "      margin-bottom: 4px;\n",
              "    }\n",
              "\n",
              "    [theme=dark] .colab-df-convert {\n",
              "      background-color: #3B4455;\n",
              "      fill: #D2E3FC;\n",
              "    }\n",
              "\n",
              "    [theme=dark] .colab-df-convert:hover {\n",
              "      background-color: #434B5C;\n",
              "      box-shadow: 0px 1px 3px 1px rgba(0, 0, 0, 0.15);\n",
              "      filter: drop-shadow(0px 1px 2px rgba(0, 0, 0, 0.3));\n",
              "      fill: #FFFFFF;\n",
              "    }\n",
              "  </style>\n",
              "\n",
              "    <script>\n",
              "      const buttonEl =\n",
              "        document.querySelector('#df-8c4780c7-ea28-4f3a-809e-b5e567df647e button.colab-df-convert');\n",
              "      buttonEl.style.display =\n",
              "        google.colab.kernel.accessAllowed ? 'block' : 'none';\n",
              "\n",
              "      async function convertToInteractive(key) {\n",
              "        const element = document.querySelector('#df-8c4780c7-ea28-4f3a-809e-b5e567df647e');\n",
              "        const dataTable =\n",
              "          await google.colab.kernel.invokeFunction('convertToInteractive',\n",
              "                                                    [key], {});\n",
              "        if (!dataTable) return;\n",
              "\n",
              "        const docLinkHtml = 'Like what you see? Visit the ' +\n",
              "          '<a target=\"_blank\" href=https://colab.research.google.com/notebooks/data_table.ipynb>data table notebook</a>'\n",
              "          + ' to learn more about interactive tables.';\n",
              "        element.innerHTML = '';\n",
              "        dataTable['output_type'] = 'display_data';\n",
              "        await google.colab.output.renderOutput(dataTable, element);\n",
              "        const docLink = document.createElement('div');\n",
              "        docLink.innerHTML = docLinkHtml;\n",
              "        element.appendChild(docLink);\n",
              "      }\n",
              "    </script>\n",
              "  </div>\n",
              "\n",
              "\n",
              "<div id=\"df-fce7ca14-2e90-43d2-918a-2a36046d9aad\">\n",
              "  <button class=\"colab-df-quickchart\" onclick=\"quickchart('df-fce7ca14-2e90-43d2-918a-2a36046d9aad')\"\n",
              "            title=\"Suggest charts\"\n",
              "            style=\"display:none;\">\n",
              "\n",
              "<svg xmlns=\"http://www.w3.org/2000/svg\" height=\"24px\"viewBox=\"0 0 24 24\"\n",
              "     width=\"24px\">\n",
              "    <g>\n",
              "        <path d=\"M19 3H5c-1.1 0-2 .9-2 2v14c0 1.1.9 2 2 2h14c1.1 0 2-.9 2-2V5c0-1.1-.9-2-2-2zM9 17H7v-7h2v7zm4 0h-2V7h2v10zm4 0h-2v-4h2v4z\"/>\n",
              "    </g>\n",
              "</svg>\n",
              "  </button>\n",
              "\n",
              "<style>\n",
              "  .colab-df-quickchart {\n",
              "      --bg-color: #E8F0FE;\n",
              "      --fill-color: #1967D2;\n",
              "      --hover-bg-color: #E2EBFA;\n",
              "      --hover-fill-color: #174EA6;\n",
              "      --disabled-fill-color: #AAA;\n",
              "      --disabled-bg-color: #DDD;\n",
              "  }\n",
              "\n",
              "  [theme=dark] .colab-df-quickchart {\n",
              "      --bg-color: #3B4455;\n",
              "      --fill-color: #D2E3FC;\n",
              "      --hover-bg-color: #434B5C;\n",
              "      --hover-fill-color: #FFFFFF;\n",
              "      --disabled-bg-color: #3B4455;\n",
              "      --disabled-fill-color: #666;\n",
              "  }\n",
              "\n",
              "  .colab-df-quickchart {\n",
              "    background-color: var(--bg-color);\n",
              "    border: none;\n",
              "    border-radius: 50%;\n",
              "    cursor: pointer;\n",
              "    display: none;\n",
              "    fill: var(--fill-color);\n",
              "    height: 32px;\n",
              "    padding: 0;\n",
              "    width: 32px;\n",
              "  }\n",
              "\n",
              "  .colab-df-quickchart:hover {\n",
              "    background-color: var(--hover-bg-color);\n",
              "    box-shadow: 0 1px 2px rgba(60, 64, 67, 0.3), 0 1px 3px 1px rgba(60, 64, 67, 0.15);\n",
              "    fill: var(--button-hover-fill-color);\n",
              "  }\n",
              "\n",
              "  .colab-df-quickchart-complete:disabled,\n",
              "  .colab-df-quickchart-complete:disabled:hover {\n",
              "    background-color: var(--disabled-bg-color);\n",
              "    fill: var(--disabled-fill-color);\n",
              "    box-shadow: none;\n",
              "  }\n",
              "\n",
              "  .colab-df-spinner {\n",
              "    border: 2px solid var(--fill-color);\n",
              "    border-color: transparent;\n",
              "    border-bottom-color: var(--fill-color);\n",
              "    animation:\n",
              "      spin 1s steps(1) infinite;\n",
              "  }\n",
              "\n",
              "  @keyframes spin {\n",
              "    0% {\n",
              "      border-color: transparent;\n",
              "      border-bottom-color: var(--fill-color);\n",
              "      border-left-color: var(--fill-color);\n",
              "    }\n",
              "    20% {\n",
              "      border-color: transparent;\n",
              "      border-left-color: var(--fill-color);\n",
              "      border-top-color: var(--fill-color);\n",
              "    }\n",
              "    30% {\n",
              "      border-color: transparent;\n",
              "      border-left-color: var(--fill-color);\n",
              "      border-top-color: var(--fill-color);\n",
              "      border-right-color: var(--fill-color);\n",
              "    }\n",
              "    40% {\n",
              "      border-color: transparent;\n",
              "      border-right-color: var(--fill-color);\n",
              "      border-top-color: var(--fill-color);\n",
              "    }\n",
              "    60% {\n",
              "      border-color: transparent;\n",
              "      border-right-color: var(--fill-color);\n",
              "    }\n",
              "    80% {\n",
              "      border-color: transparent;\n",
              "      border-right-color: var(--fill-color);\n",
              "      border-bottom-color: var(--fill-color);\n",
              "    }\n",
              "    90% {\n",
              "      border-color: transparent;\n",
              "      border-bottom-color: var(--fill-color);\n",
              "    }\n",
              "  }\n",
              "</style>\n",
              "\n",
              "  <script>\n",
              "    async function quickchart(key) {\n",
              "      const quickchartButtonEl =\n",
              "        document.querySelector('#' + key + ' button');\n",
              "      quickchartButtonEl.disabled = true;  // To prevent multiple clicks.\n",
              "      quickchartButtonEl.classList.add('colab-df-spinner');\n",
              "      try {\n",
              "        const charts = await google.colab.kernel.invokeFunction(\n",
              "            'suggestCharts', [key], {});\n",
              "      } catch (error) {\n",
              "        console.error('Error during call to suggestCharts:', error);\n",
              "      }\n",
              "      quickchartButtonEl.classList.remove('colab-df-spinner');\n",
              "      quickchartButtonEl.classList.add('colab-df-quickchart-complete');\n",
              "    }\n",
              "    (() => {\n",
              "      let quickchartButtonEl =\n",
              "        document.querySelector('#df-fce7ca14-2e90-43d2-918a-2a36046d9aad button');\n",
              "      quickchartButtonEl.style.display =\n",
              "        google.colab.kernel.accessAllowed ? 'block' : 'none';\n",
              "    })();\n",
              "  </script>\n",
              "</div>\n",
              "\n",
              "    </div>\n",
              "  </div>\n"
            ],
            "application/vnd.google.colaboratory.intrinsic+json": {
              "type": "dataframe",
              "variable_name": "dados",
              "summary": "{\n  \"name\": \"dados\",\n  \"rows\": 8950,\n  \"fields\": [\n    {\n      \"column\": \"CUST_ID\",\n      \"properties\": {\n        \"dtype\": \"string\",\n        \"num_unique_values\": 8950,\n        \"samples\": [\n          \"C17875\",\n          \"C16296\",\n          \"C17219\"\n        ],\n        \"semantic_type\": \"\",\n        \"description\": \"\"\n      }\n    },\n    {\n      \"column\": \"BALANCE\",\n      \"properties\": {\n        \"dtype\": \"number\",\n        \"std\": 2081.5318794565546,\n        \"min\": 0.0,\n        \"max\": 19043.13856,\n        \"num_unique_values\": 8871,\n        \"samples\": [\n          325.024091,\n          965.514081,\n          203.499251\n        ],\n        \"semantic_type\": \"\",\n        \"description\": \"\"\n      }\n    },\n    {\n      \"column\": \"BALANCE_FREQUENCY\",\n      \"properties\": {\n        \"dtype\": \"number\",\n        \"std\": 0.23690400268476855,\n        \"min\": 0.0,\n        \"max\": 1.0,\n        \"num_unique_values\": 43,\n        \"samples\": [\n          0.428571,\n          0.8,\n          0.2\n        ],\n        \"semantic_type\": \"\",\n        \"description\": \"\"\n      }\n    },\n    {\n      \"column\": \"PURCHASES\",\n      \"properties\": {\n        \"dtype\": \"number\",\n        \"std\": 2136.6347818728887,\n        \"min\": 0.0,\n        \"max\": 49039.57,\n        \"num_unique_values\": 6203,\n        \"samples\": [\n          1361.65,\n          2485.54,\n          2580.63\n        ],\n        \"semantic_type\": \"\",\n        \"description\": \"\"\n      }\n    },\n    {\n      \"column\": \"ONEOFF_PURCHASES\",\n      \"properties\": {\n        \"dtype\": \"number\",\n        \"std\": 1659.887917437811,\n        \"min\": 0.0,\n        \"max\": 40761.25,\n        \"num_unique_values\": 4014,\n        \"samples\": [\n          25.62,\n          13007.07,\n          185.63\n        ],\n        \"semantic_type\": \"\",\n        \"description\": \"\"\n      }\n    },\n    {\n      \"column\": \"INSTALLMENTS_PURCHASES\",\n      \"properties\": {\n        \"dtype\": \"number\",\n        \"std\": 904.3381151753817,\n        \"min\": 0.0,\n        \"max\": 22500.0,\n        \"num_unique_values\": 4452,\n        \"samples\": [\n          228.56,\n          255.58,\n          729.6\n        ],\n        \"semantic_type\": \"\",\n        \"description\": \"\"\n      }\n    },\n    {\n      \"column\": \"CASH_ADVANCE\",\n      \"properties\": {\n        \"dtype\": \"number\",\n        \"std\": 2097.163876643234,\n        \"min\": 0.0,\n        \"max\": 47137.21176,\n        \"num_unique_values\": 4323,\n        \"samples\": [\n          4473.3497,\n          520.844673,\n          3968.684047\n        ],\n        \"semantic_type\": \"\",\n        \"description\": \"\"\n      }\n    },\n    {\n      \"column\": \"PURCHASES_FREQUENCY\",\n      \"properties\": {\n        \"dtype\": \"number\",\n        \"std\": 0.40137074736904105,\n        \"min\": 0.0,\n        \"max\": 1.0,\n        \"num_unique_values\": 47,\n        \"samples\": [\n          0.8,\n          0.555556,\n          0.2\n        ],\n        \"semantic_type\": \"\",\n        \"description\": \"\"\n      }\n    },\n    {\n      \"column\": \"ONEOFF_PURCHASES_FREQUENCY\",\n      \"properties\": {\n        \"dtype\": \"number\",\n        \"std\": 0.2983360651847195,\n        \"min\": 0.0,\n        \"max\": 1.0,\n        \"num_unique_values\": 47,\n        \"samples\": [\n          0.909091,\n          0.625,\n          0.181818\n        ],\n        \"semantic_type\": \"\",\n        \"description\": \"\"\n      }\n    },\n    {\n      \"column\": \"PURCHASES_INSTALLMENTS_FREQUENCY\",\n      \"properties\": {\n        \"dtype\": \"number\",\n        \"std\": 0.39744777974541307,\n        \"min\": 0.0,\n        \"max\": 1.0,\n        \"num_unique_values\": 47,\n        \"samples\": [\n          0.857143,\n          0.222222,\n          0.142857\n        ],\n        \"semantic_type\": \"\",\n        \"description\": \"\"\n      }\n    },\n    {\n      \"column\": \"CASH_ADVANCE_FREQUENCY\",\n      \"properties\": {\n        \"dtype\": \"number\",\n        \"std\": 0.2001213881474969,\n        \"min\": 0.0,\n        \"max\": 1.5,\n        \"num_unique_values\": 54,\n        \"samples\": [\n          0.222222,\n          0.818182,\n          0.7\n        ],\n        \"semantic_type\": \"\",\n        \"description\": \"\"\n      }\n    },\n    {\n      \"column\": \"CASH_ADVANCE_TRX\",\n      \"properties\": {\n        \"dtype\": \"number\",\n        \"std\": 6,\n        \"min\": 0,\n        \"max\": 123,\n        \"num_unique_values\": 65,\n        \"samples\": [\n          47,\n          61,\n          0\n        ],\n        \"semantic_type\": \"\",\n        \"description\": \"\"\n      }\n    },\n    {\n      \"column\": \"PURCHASES_TRX\",\n      \"properties\": {\n        \"dtype\": \"number\",\n        \"std\": 24,\n        \"min\": 0,\n        \"max\": 358,\n        \"num_unique_values\": 173,\n        \"samples\": [\n          162,\n          216,\n          79\n        ],\n        \"semantic_type\": \"\",\n        \"description\": \"\"\n      }\n    },\n    {\n      \"column\": \"CREDIT_LIMIT\",\n      \"properties\": {\n        \"dtype\": \"number\",\n        \"std\": 3638.8157254984967,\n        \"min\": 50.0,\n        \"max\": 30000.0,\n        \"num_unique_values\": 205,\n        \"samples\": [\n          9000.0,\n          3000.0,\n          300.0\n        ],\n        \"semantic_type\": \"\",\n        \"description\": \"\"\n      }\n    },\n    {\n      \"column\": \"PAYMENTS\",\n      \"properties\": {\n        \"dtype\": \"number\",\n        \"std\": 2895.063756904574,\n        \"min\": 0.0,\n        \"max\": 50721.48336,\n        \"num_unique_values\": 8711,\n        \"samples\": [\n          810.671862,\n          5943.975673,\n          7079.1781\n        ],\n        \"semantic_type\": \"\",\n        \"description\": \"\"\n      }\n    },\n    {\n      \"column\": \"MINIMUM_PAYMENTS\",\n      \"properties\": {\n        \"dtype\": \"number\",\n        \"std\": 2372.4466065839747,\n        \"min\": 0.019163,\n        \"max\": 76406.20752,\n        \"num_unique_values\": 8636,\n        \"samples\": [\n          173.484575,\n          185.120378,\n          163.711273\n        ],\n        \"semantic_type\": \"\",\n        \"description\": \"\"\n      }\n    },\n    {\n      \"column\": \"PRC_FULL_PAYMENT\",\n      \"properties\": {\n        \"dtype\": \"number\",\n        \"std\": 0.29249919623387854,\n        \"min\": 0.0,\n        \"max\": 1.0,\n        \"num_unique_values\": 47,\n        \"samples\": [\n          0.583333,\n          0.272727,\n          0.1\n        ],\n        \"semantic_type\": \"\",\n        \"description\": \"\"\n      }\n    },\n    {\n      \"column\": \"TENURE\",\n      \"properties\": {\n        \"dtype\": \"number\",\n        \"std\": 1,\n        \"min\": 6,\n        \"max\": 12,\n        \"num_unique_values\": 7,\n        \"samples\": [\n          12,\n          8,\n          7\n        ],\n        \"semantic_type\": \"\",\n        \"description\": \"\"\n      }\n    }\n  ]\n}"
            }
          },
          "metadata": {},
          "execution_count": 4
        }
      ]
    },
    {
      "cell_type": "markdown",
      "source": [
        "## Apresentar informações básicas"
      ],
      "metadata": {
        "id": "2qgXqSa_Ct8h"
      }
    },
    {
      "cell_type": "markdown",
      "source": [
        "Vemos que o dataset inclui 8950 registros em 18 campos, sendo a maioria deles números, com exceção do CUST_ID que é usado para identificação do cliente."
      ],
      "metadata": {
        "id": "J2DKaDPo_9cH"
      }
    },
    {
      "cell_type": "code",
      "source": [
        "dados.shape"
      ],
      "metadata": {
        "colab": {
          "base_uri": "https://localhost:8080/"
        },
        "id": "P3irzFrK9Tk4",
        "outputId": "ef4e50a6-056c-4791-cb0f-46554d0e0ead"
      },
      "execution_count": 5,
      "outputs": [
        {
          "output_type": "execute_result",
          "data": {
            "text/plain": [
              "(8950, 18)"
            ]
          },
          "metadata": {},
          "execution_count": 5
        }
      ]
    },
    {
      "cell_type": "code",
      "source": [
        "dados.info()"
      ],
      "metadata": {
        "colab": {
          "base_uri": "https://localhost:8080/"
        },
        "id": "VT1Bd4L0-1fh",
        "outputId": "6e3fa638-5a23-4e92-8f7a-9ce2616af82e"
      },
      "execution_count": 6,
      "outputs": [
        {
          "output_type": "stream",
          "name": "stdout",
          "text": [
            "<class 'pandas.core.frame.DataFrame'>\n",
            "RangeIndex: 8950 entries, 0 to 8949\n",
            "Data columns (total 18 columns):\n",
            " #   Column                            Non-Null Count  Dtype  \n",
            "---  ------                            --------------  -----  \n",
            " 0   CUST_ID                           8950 non-null   object \n",
            " 1   BALANCE                           8950 non-null   float64\n",
            " 2   BALANCE_FREQUENCY                 8950 non-null   float64\n",
            " 3   PURCHASES                         8950 non-null   float64\n",
            " 4   ONEOFF_PURCHASES                  8950 non-null   float64\n",
            " 5   INSTALLMENTS_PURCHASES            8950 non-null   float64\n",
            " 6   CASH_ADVANCE                      8950 non-null   float64\n",
            " 7   PURCHASES_FREQUENCY               8950 non-null   float64\n",
            " 8   ONEOFF_PURCHASES_FREQUENCY        8950 non-null   float64\n",
            " 9   PURCHASES_INSTALLMENTS_FREQUENCY  8950 non-null   float64\n",
            " 10  CASH_ADVANCE_FREQUENCY            8950 non-null   float64\n",
            " 11  CASH_ADVANCE_TRX                  8950 non-null   int64  \n",
            " 12  PURCHASES_TRX                     8950 non-null   int64  \n",
            " 13  CREDIT_LIMIT                      8949 non-null   float64\n",
            " 14  PAYMENTS                          8950 non-null   float64\n",
            " 15  MINIMUM_PAYMENTS                  8637 non-null   float64\n",
            " 16  PRC_FULL_PAYMENT                  8950 non-null   float64\n",
            " 17  TENURE                            8950 non-null   int64  \n",
            "dtypes: float64(14), int64(3), object(1)\n",
            "memory usage: 1.2+ MB\n"
          ]
        }
      ]
    },
    {
      "cell_type": "markdown",
      "source": [
        "## Tratamento dos dados"
      ],
      "metadata": {
        "id": "8zNSMJQxCn89"
      }
    },
    {
      "cell_type": "markdown",
      "source": [
        "Como foi constatada a presença de registros ausentes no limite de crédito e nos pagamentos mínimos, vamos preencher com zero os valores mínimos e o valor médio de crédito para o limite."
      ],
      "metadata": {
        "id": "TFEislGGDjEz"
      }
    },
    {
      "cell_type": "code",
      "source": [
        "dados['CREDIT_LIMIT'].fillna(dados['CREDIT_LIMIT'].mean(), inplace=True)"
      ],
      "metadata": {
        "id": "UtkmFDT7-3Av"
      },
      "execution_count": 7,
      "outputs": []
    },
    {
      "cell_type": "code",
      "source": [
        "dados['MINIMUM_PAYMENTS'].fillna(0.0, inplace = True)"
      ],
      "metadata": {
        "id": "N2O5DztYD9wa"
      },
      "execution_count": 8,
      "outputs": []
    },
    {
      "cell_type": "code",
      "source": [
        "dados.isna().sum().sum()"
      ],
      "metadata": {
        "colab": {
          "base_uri": "https://localhost:8080/"
        },
        "id": "dATwxqr5E0Tl",
        "outputId": "419a3eed-7726-4de4-c663-4a0c91bbaf68"
      },
      "execution_count": 9,
      "outputs": [
        {
          "output_type": "execute_result",
          "data": {
            "text/plain": [
              "0"
            ]
          },
          "metadata": {},
          "execution_count": 9
        }
      ]
    },
    {
      "cell_type": "markdown",
      "source": [
        "Como o ID é único, não será relevantes para os estudos. Além disso, como o contrato de renovação é uma constante para todos, este será removido."
      ],
      "metadata": {
        "id": "xvk0dUVMH-N4"
      }
    },
    {
      "cell_type": "code",
      "source": [
        "dados.drop([\"CUST_ID\", \"TENURE\"], axis = 1, inplace = True)"
      ],
      "metadata": {
        "id": "a6R0_QwKGsaJ"
      },
      "execution_count": 10,
      "outputs": []
    },
    {
      "cell_type": "markdown",
      "source": [
        "# Clusterização"
      ],
      "metadata": {
        "id": "bNdjtcMHFEcc"
      }
    },
    {
      "cell_type": "markdown",
      "source": [
        "## Pré-processamento"
      ],
      "metadata": {
        "id": "PlZ8-rd5KmAI"
      }
    },
    {
      "cell_type": "markdown",
      "source": [
        "Como os dados estão em escalas diferentes, faremos um pré-processamento dos dados aplicando uma normalização neles, isto é, colocando os dados numa escala de 0 a 1."
      ],
      "metadata": {
        "id": "rMDuGq7WhhOj"
      }
    },
    {
      "cell_type": "code",
      "source": [
        "from sklearn.preprocessing import Normalizer\n",
        "\n",
        "normalizador = Normalizer()\n",
        "dados_transformados = normalizador.fit_transform(dados)"
      ],
      "metadata": {
        "id": "Hyv9Gh3PE3CK"
      },
      "execution_count": 11,
      "outputs": []
    },
    {
      "cell_type": "markdown",
      "source": [
        "## Aplicação do K-means"
      ],
      "metadata": {
        "id": "GGiOG3I0Ifwl"
      }
    },
    {
      "cell_type": "markdown",
      "source": [
        "O modelo com K-Means buscará agrupar os dados em clusters que possuem características comuns entre si e diferentes entre outrs clusters. Cria-se uma função para evitar as repetições."
      ],
      "metadata": {
        "id": "Nq7rBHleiKIG"
      }
    },
    {
      "cell_type": "code",
      "source": [
        "seed = 42\n",
        "np.random.seed(seed)"
      ],
      "metadata": {
        "id": "84Fv5G6DKoJ-"
      },
      "execution_count": 12,
      "outputs": []
    },
    {
      "cell_type": "code",
      "source": [
        "from sklearn.cluster import KMeans\n",
        "from sklearn.metrics import silhouette_score, davies_bouldin_score, calinski_harabasz_score\n",
        "\n",
        "def clusterizacao(n, dados):\n",
        "  modelo = KMeans(n_clusters=n, n_init = 10, max_iter=300, random_state = seed)\n",
        "  predicao = modelo.fit_predict(dados)\n",
        "  ss = silhouette_score(dados, predicao, metric = 'euclidean')\n",
        "  dbs = davies_bouldin_score(dados, predicao)\n",
        "  chs = calinski_harabasz_score(dados, predicao)\n",
        "\n",
        "  print(\"O escore de Silhouette do modelo é: \", ss)\n",
        "  print(\"O escore de Davies-Bouldin do modelo é: \", dbs)\n",
        "  print(\"O escore de Calinski-Harabasz do modelo é: \", chs)"
      ],
      "metadata": {
        "id": "SkQwVzPCIVb1"
      },
      "execution_count": 13,
      "outputs": []
    },
    {
      "cell_type": "markdown",
      "source": [
        "Não basta apenas realizar a clusterização. Será importante validar os modelos com métricas e verificar quais são mais apropriados. Todos os índices tratam da compactação no cluster e da separação entre clusters, mas através de cálculos distintos.\n",
        "\n",
        "* O índice Silhouette é um valor de -1 a 1, e quanto mais próximo de 1, isto indica que os clusters estão mais separados entre si.\n",
        "\n",
        "* O índice Davis-Bouldin avalia a similaridade. Nesse caso os valores mais próximos de zero representam clusterizações mais bem sucedidas.\n",
        "\n",
        "* O índice Calinski-Harabasz trata da dispersão entre os clusters, fazendo uso da variância. Quanto maior este índice melhor é a clusterização."
      ],
      "metadata": {
        "id": "iSPmW3GXiY6J"
      }
    },
    {
      "cell_type": "markdown",
      "source": [
        "Foram aplicados 3 modelos diferentes, cada qual com números de clusters distintos. O primeiro tem 5, o segundo possui 3 e terceiro com 10. Diantes dos resultados dos escores, nota-se que a clusterização com 5 obteve melhores índices."
      ],
      "metadata": {
        "id": "_0a3UQLsmb_4"
      }
    },
    {
      "cell_type": "code",
      "source": [
        "clusterizacao(5, dados_transformados)"
      ],
      "metadata": {
        "colab": {
          "base_uri": "https://localhost:8080/"
        },
        "id": "9_uYUct-QDLw",
        "outputId": "6156cade-295e-45ea-8b1a-b8f1a5283146"
      },
      "execution_count": 14,
      "outputs": [
        {
          "output_type": "stream",
          "name": "stdout",
          "text": [
            "O escore de Silhouette do modelo é:  0.36544919030961814\n",
            "O escore de Davies-Bouldin do modelo é:  1.0752672763103752\n",
            "O escore de Calinski-Harabasz do modelo é:  3446.613589198001\n"
          ]
        }
      ]
    },
    {
      "cell_type": "code",
      "source": [
        "clusterizacao(3, dados_transformados)"
      ],
      "metadata": {
        "colab": {
          "base_uri": "https://localhost:8080/"
        },
        "id": "puUchY9QQ1rK",
        "outputId": "d403bc83-a6c6-47be-e9ca-a732fdd31e9b"
      },
      "execution_count": 15,
      "outputs": [
        {
          "output_type": "stream",
          "name": "stdout",
          "text": [
            "O escore de Silhouette do modelo é:  0.3283794178494738\n",
            "O escore de Davies-Bouldin do modelo é:  1.3095448993536187\n",
            "O escore de Calinski-Harabasz do modelo é:  3540.967888705778\n"
          ]
        }
      ]
    },
    {
      "cell_type": "code",
      "source": [
        "clusterizacao(3, dados_transformados)"
      ],
      "metadata": {
        "colab": {
          "base_uri": "https://localhost:8080/"
        },
        "id": "2fw-f7tUQ1qF",
        "outputId": "ce2b883c-f94c-46ca-bc2f-ac769f266b53"
      },
      "execution_count": 16,
      "outputs": [
        {
          "output_type": "stream",
          "name": "stdout",
          "text": [
            "O escore de Silhouette do modelo é:  0.3283794178494738\n",
            "O escore de Davies-Bouldin do modelo é:  1.3095448993536187\n",
            "O escore de Calinski-Harabasz do modelo é:  3540.967888705778\n"
          ]
        }
      ]
    },
    {
      "cell_type": "markdown",
      "source": [
        "Outra forma de validação é aplicar o modelo de clusterização a um conjunto de dados aleatórios e verificar as métricas. Dessa forma, pode-se constatar que as métricas da clusterização com os dados bancários estão bem melhores do que com um conjunto aleatório e podemos ter uma linha de base."
      ],
      "metadata": {
        "id": "DaRBu63GmxJY"
      }
    },
    {
      "cell_type": "code",
      "source": [
        "dados_aleatorios = np.random.rand(8950,16)\n",
        "clusterizacao(5, dados_aleatorios)"
      ],
      "metadata": {
        "colab": {
          "base_uri": "https://localhost:8080/"
        },
        "id": "P_Vbe3DmmwZ3",
        "outputId": "d249d537-c27a-4bfe-d8cc-df0a2680e871"
      },
      "execution_count": 17,
      "outputs": [
        {
          "output_type": "stream",
          "name": "stdout",
          "text": [
            "O escore de Silhouette do modelo é:  0.038998781594591275\n",
            "O escore de Davies-Bouldin do modelo é:  3.5946000002706398\n",
            "O escore de Calinski-Harabasz do modelo é:  302.11740552402136\n"
          ]
        }
      ]
    },
    {
      "cell_type": "markdown",
      "source": [
        "Uma forma distinta de validar o modelo é separar o conjunto de dados e realizar a clusterização nos subconjuntos e comparar as métricas. Percebe-se valores semelhantes entre si e com o modelo utilizando todos os dados."
      ],
      "metadata": {
        "id": "RgSOFW1ZrvsM"
      }
    },
    {
      "cell_type": "code",
      "source": [
        "conjunto_1, conjunto_2, conjunto_3, conjunto_4 = np.array_split(dados_transformados, 4)\n",
        "print('='*30)\n",
        "clusterizacao(5, conjunto_1)\n",
        "print('='*30)\n",
        "clusterizacao(5, conjunto_2)\n",
        "print('='*30)\n",
        "clusterizacao(5, conjunto_3)\n",
        "print('='*30)\n",
        "clusterizacao(5, conjunto_4)"
      ],
      "metadata": {
        "colab": {
          "base_uri": "https://localhost:8080/"
        },
        "id": "I99m0ilkp1kz",
        "outputId": "ff31b498-03db-473d-94a0-fceda941ce1f"
      },
      "execution_count": 18,
      "outputs": [
        {
          "output_type": "stream",
          "name": "stdout",
          "text": [
            "==============================\n",
            "O escore de Silhouette do modelo é:  0.36636908337641083\n",
            "O escore de Davies-Bouldin do modelo é:  1.0725787238251059\n",
            "O escore de Calinski-Harabasz do modelo é:  893.6795318014866\n",
            "==============================\n",
            "O escore de Silhouette do modelo é:  0.3464100580222663\n",
            "O escore de Davies-Bouldin do modelo é:  1.1315694984234235\n",
            "O escore de Calinski-Harabasz do modelo é:  878.1454858968939\n",
            "==============================\n",
            "O escore de Silhouette do modelo é:  0.36641058711824\n",
            "O escore de Davies-Bouldin do modelo é:  1.0812778849707372\n",
            "O escore de Calinski-Harabasz do modelo é:  877.8218042814686\n",
            "==============================\n",
            "O escore de Silhouette do modelo é:  0.37495871703285377\n",
            "O escore de Davies-Bouldin do modelo é:  1.1553168196423083\n",
            "O escore de Calinski-Harabasz do modelo é:  898.4105570617337\n"
          ]
        }
      ]
    },
    {
      "cell_type": "markdown",
      "source": [
        "# Avaliação do modelo"
      ],
      "metadata": {
        "id": "oBW10eBissGD"
      }
    },
    {
      "cell_type": "markdown",
      "source": [
        "Com o melhor modelo obtido podemos realizar algumas análises."
      ],
      "metadata": {
        "id": "f-VzrRw7C0G2"
      }
    },
    {
      "cell_type": "code",
      "source": [
        "modelo = KMeans(n_clusters=5, n_init = 10, max_iter=300, random_state = seed)\n",
        "predicao = modelo.fit_predict(dados_transformados)"
      ],
      "metadata": {
        "id": "0MGbH8KTsrnS"
      },
      "execution_count": 19,
      "outputs": []
    },
    {
      "cell_type": "markdown",
      "source": [
        "Adiciona-se uma nova coluna com os rótulo do cluster nos registros."
      ],
      "metadata": {
        "id": "3xiTKKhjLG92"
      }
    },
    {
      "cell_type": "code",
      "source": [
        "dados['cluster'] = predicao"
      ],
      "metadata": {
        "id": "WpyuMW3iSWt1"
      },
      "execution_count": 20,
      "outputs": []
    },
    {
      "cell_type": "markdown",
      "source": [
        "Podemos avaliar a quantidade de compras e o pagamento das contas feitas pelos usuários e apresentar conforme os valores dos clusters."
      ],
      "metadata": {
        "id": "cqM2p7P8LPLi"
      }
    },
    {
      "cell_type": "code",
      "source": [
        "plt.scatter(dados['PURCHASES'], dados['PAYMENTS'], c= predicao, cmap='rainbow')\n",
        "plt.xlabel(\"Valor total pago\")\n",
        "plt.ylabel(\"Valor total gasto\")\n",
        "plt.show()"
      ],
      "metadata": {
        "colab": {
          "base_uri": "https://localhost:8080/",
          "height": 449
        },
        "id": "S2U0UOy5RFAK",
        "outputId": "2d50c6db-a2e7-403f-d796-2fa38709c562"
      },
      "execution_count": 21,
      "outputs": [
        {
          "output_type": "display_data",
          "data": {
            "text/plain": [
              "<Figure size 640x480 with 1 Axes>"
            ],
            "image/png": "[encoded data removed]"
          },
          "metadata": {}
        }
      ]
    },
    {
      "cell_type": "markdown",
      "source": [
        "Podemos ver a frequência dos valores do saldo da conta de cada cluster"
      ],
      "metadata": {
        "id": "xzjCkoBELi3_"
      }
    },
    {
      "cell_type": "code",
      "source": [
        "num_clusters = len(dados['cluster'].unique())\n",
        "\n",
        "plt.figure(figsize=(16,12))\n",
        "plt.suptitle('Saldo restante por clusters')\n",
        "\n",
        "for i in range(num_clusters):\n",
        "    dados_cluster = dados.query(f'cluster == {i}')\n",
        "    plt.subplot(5, 1, i+1)\n",
        "    sns.histplot(data=dados_cluster, x='BALANCE')\n",
        "    plt.title(f'Cluster {i}')\n",
        "\n",
        "plt.tight_layout()\n",
        "plt.show()"
      ],
      "metadata": {
        "colab": {
          "base_uri": "https://localhost:8080/",
          "height": 717
        },
        "id": "qgO96DeUHuEO",
        "outputId": "1ad6e3eb-7aef-475c-8981-6e66a215418f"
      },
      "execution_count": 22,
      "outputs": [
        {
          "output_type": "display_data",
          "data": {
            "text/plain": [
              "<Figure size 1600x1200 with 5 Axes>"
            ],
            "image/png": "[encoded data removed]"
          },
          "metadata": {}
        }
      ]
    },
    {
      "cell_type": "markdown",
      "source": [
        "Pode-se ainda agrupar os clusters e avaliar algumas das características em média de cada cluster. Daqui podemos tirar as seguintes conclusões em média:\n",
        "\n",
        "* Cluster 0: possui o maior número de ocorrências, compreende um grupo com o menor saldo, porém com o maior limite, sendo um grupo que em geral não realiza muitos pagamentos.\n",
        "\n",
        "* Cluster 1: Possuem um bom saldo em conta, compram pouco,  realizam os maiores adiantamentos em dinheiro, com os maiores pagamentos.\n",
        "\n",
        "* Cluster 2: Menor número de clientes, possuem bom saldo, bons pagamentos, boa quantidade de compras\n",
        "\n",
        "* Cluster 3: Clientes que fazer a maior quantidade de compras, com alto limite, com altos pagamentos.\n",
        "\n",
        "* Cluster 4: Clientes com o maior saldo na conta, com alto valor de crédito, mas realizam a menor quantidade de compras."
      ],
      "metadata": {
        "id": "y9uEIc29L3ec"
      }
    },
    {
      "cell_type": "code",
      "source": [
        "clusters = dados.groupby(\"cluster\")[[\"BALANCE\", \"PURCHASES\", \"CASH_ADVANCE\", \"CREDIT_LIMIT\", \"PAYMENTS\"]]\n",
        "n_clientes = clusters.size()\n",
        "clusters = clusters.mean()\n",
        "clusters['n_clientes'] = n_clientes\n",
        "print(clusters)"
      ],
      "metadata": {
        "colab": {
          "base_uri": "https://localhost:8080/"
        },
        "id": "smSzKBObSJC_",
        "outputId": "27ae4e53-f2e0-4769-ab2c-cba3b908645c"
      },
      "execution_count": 23,
      "outputs": [
        {
          "output_type": "stream",
          "name": "stdout",
          "text": [
            "             BALANCE    PURCHASES  CASH_ADVANCE  CREDIT_LIMIT     PAYMENTS  \\\n",
            "cluster                                                                      \n",
            "0         442.826380   629.320580    143.211009   5135.550158   813.510360   \n",
            "1        1794.764536   475.785508   3270.705696   3975.462453  4706.788521   \n",
            "2        1987.146873   858.326286    420.107194   2226.699029  1338.974045   \n",
            "3        1139.517570  3262.893253    182.732840   4094.011764  3032.492972   \n",
            "4        3039.831446   385.005706   1634.258107   4498.262840   969.420888   \n",
            "\n",
            "         n_clientes  \n",
            "cluster              \n",
            "0              3274  \n",
            "1              1073  \n",
            "2               412  \n",
            "3              1543  \n",
            "4              2648  \n"
          ]
        }
      ]
    },
    {
      "cell_type": "markdown",
      "source": [
        "Podemos descobrir quais características possuem a maior influência na determinação do cluster através da decomposição PCA, ou análise da componentes principais."
      ],
      "metadata": {
        "id": "tip6rn50Nn75"
      }
    },
    {
      "cell_type": "code",
      "source": [
        "from sklearn.decomposition import PCA\n",
        "\n",
        "pca = PCA(n_components=7, random_state=seed)\n",
        "aplicacao_pca = pca.fit_transform(dados)"
      ],
      "metadata": {
        "id": "ehi5cBO4Ydvg"
      },
      "execution_count": 24,
      "outputs": []
    },
    {
      "cell_type": "markdown",
      "source": [
        "Com essa análise obtemos as 7 principais colunas dentre as 18 existentes."
      ],
      "metadata": {
        "id": "pJqG-W2GN1r6"
      }
    },
    {
      "cell_type": "code",
      "source": [
        "colunas_principais = []\n",
        "for i in range(7):\n",
        "  nome = pca.feature_names_in_[i]\n",
        "  colunas_principais.append(nome)\n",
        "colunas_principais"
      ],
      "metadata": {
        "colab": {
          "base_uri": "https://localhost:8080/"
        },
        "id": "DgJeiD7xbS64",
        "outputId": "5d08794b-8c70-4560-da8d-378ff3837bf4"
      },
      "execution_count": 25,
      "outputs": [
        {
          "output_type": "execute_result",
          "data": {
            "text/plain": [
              "['BALANCE',\n",
              " 'BALANCE_FREQUENCY',\n",
              " 'PURCHASES',\n",
              " 'ONEOFF_PURCHASES',\n",
              " 'INSTALLMENTS_PURCHASES',\n",
              " 'CASH_ADVANCE',\n",
              " 'PURCHASES_FREQUENCY']"
            ]
          },
          "metadata": {},
          "execution_count": 25
        }
      ]
    },
    {
      "cell_type": "code",
      "source": [
        "resultado = pd.DataFrame(columns = colunas_principais, data = aplicacao_pca)\n",
        "resultado.head()"
      ],
      "metadata": {
        "colab": {
          "base_uri": "https://localhost:8080/",
          "height": 226
        },
        "id": "UnrHGZ1EdLvC",
        "outputId": "4f30e846-9f3f-40b4-c03b-820157019608"
      },
      "execution_count": 26,
      "outputs": [
        {
          "output_type": "execute_result",
          "data": {
            "text/plain": [
              "       BALANCE  BALANCE_FREQUENCY    PURCHASES  ONEOFF_PURCHASES  \\\n",
              "0 -4322.776843         912.592363   211.781386       -143.749119   \n",
              "1  4122.543452       -2440.428765  2343.172562      -3932.194768   \n",
              "2  1499.842438       -2003.250287 -2097.383924       1070.583389   \n",
              "3  1279.256138       -1330.362978 -2952.587344       1085.550573   \n",
              "4 -3739.353822         748.584391   538.975217       -220.267422   \n",
              "\n",
              "   INSTALLMENTS_PURCHASES  CASH_ADVANCE  PURCHASES_FREQUENCY  \n",
              "0               60.877557      9.565977           -65.544126  \n",
              "1               50.173693  -1450.293372            83.853765  \n",
              "2             -298.691993    391.061076          -582.764512  \n",
              "3             -582.138417   -725.203639          -640.314477  \n",
              "4             -222.085516    566.490518          -229.394879  "
            ],
            "text/html": [
              "\n",
              "  <div id=\"df-530992e0-a1d8-4969-a22f-d61b066b1d1e\" class=\"colab-df-container\">\n",
              "    <div>\n",
              "<style scoped>\n",
              "    .dataframe tbody tr th:only-of-type {\n",
              "        vertical-align: middle;\n",
              "    }\n",
              "\n",
              "    .dataframe tbody tr th {\n",
              "        vertical-align: top;\n",
              "    }\n",
              "\n",
              "    .dataframe thead th {\n",
              "        text-align: right;\n",
              "    }\n",
              "</style>\n",
              "<table border=\"1\" class=\"dataframe\">\n",
              "  <thead>\n",
              "    <tr style=\"text-align: right;\">\n",
              "      <th></th>\n",
              "      <th>BALANCE</th>\n",
              "      <th>BALANCE_FREQUENCY</th>\n",
              "      <th>PURCHASES</th>\n",
              "      <th>ONEOFF_PURCHASES</th>\n",
              "      <th>INSTALLMENTS_PURCHASES</th>\n",
              "      <th>CASH_ADVANCE</th>\n",
              "      <th>PURCHASES_FREQUENCY</th>\n",
              "    </tr>\n",
              "  </thead>\n",
              "  <tbody>\n",
              "    <tr>\n",
              "      <th>0</th>\n",
              "      <td>-4322.776843</td>\n",
              "      <td>912.592363</td>\n",
              "      <td>211.781386</td>\n",
              "      <td>-143.749119</td>\n",
              "      <td>60.877557</td>\n",
              "      <td>9.565977</td>\n",
              "      <td>-65.544126</td>\n",
              "    </tr>\n",
              "    <tr>\n",
              "      <th>1</th>\n",
              "      <td>4122.543452</td>\n",
              "      <td>-2440.428765</td>\n",
              "      <td>2343.172562</td>\n",
              "      <td>-3932.194768</td>\n",
              "      <td>50.173693</td>\n",
              "      <td>-1450.293372</td>\n",
              "      <td>83.853765</td>\n",
              "    </tr>\n",
              "    <tr>\n",
              "      <th>2</th>\n",
              "      <td>1499.842438</td>\n",
              "      <td>-2003.250287</td>\n",
              "      <td>-2097.383924</td>\n",
              "      <td>1070.583389</td>\n",
              "      <td>-298.691993</td>\n",
              "      <td>391.061076</td>\n",
              "      <td>-582.764512</td>\n",
              "    </tr>\n",
              "    <tr>\n",
              "      <th>3</th>\n",
              "      <td>1279.256138</td>\n",
              "      <td>-1330.362978</td>\n",
              "      <td>-2952.587344</td>\n",
              "      <td>1085.550573</td>\n",
              "      <td>-582.138417</td>\n",
              "      <td>-725.203639</td>\n",
              "      <td>-640.314477</td>\n",
              "    </tr>\n",
              "    <tr>\n",
              "      <th>4</th>\n",
              "      <td>-3739.353822</td>\n",
              "      <td>748.584391</td>\n",
              "      <td>538.975217</td>\n",
              "      <td>-220.267422</td>\n",
              "      <td>-222.085516</td>\n",
              "      <td>566.490518</td>\n",
              "      <td>-229.394879</td>\n",
              "    </tr>\n",
              "  </tbody>\n",
              "</table>\n",
              "</div>\n",
              "    <div class=\"colab-df-buttons\">\n",
              "\n",
              "  <div class=\"colab-df-container\">\n",
              "    <button class=\"colab-df-convert\" onclick=\"convertToInteractive('df-530992e0-a1d8-4969-a22f-d61b066b1d1e')\"\n",
              "            title=\"Convert this dataframe to an interactive table.\"\n",
              "            style=\"display:none;\">\n",
              "\n",
              "  <svg xmlns=\"http://www.w3.org/2000/svg\" height=\"24px\" viewBox=\"0 -960 960 960\">\n",
              "    <path d=\"M120-120v-720h720v720H120Zm60-500h600v-160H180v160Zm220 220h160v-160H400v160Zm0 220h160v-160H400v160ZM180-400h160v-160H180v160Zm440 0h160v-160H620v160ZM180-180h160v-160H180v160Zm440 0h160v-160H620v160Z\"/>\n",
              "  </svg>\n",
              "    </button>\n",
              "\n",
              "  <style>\n",
              "    .colab-df-container {\n",
              "      display:flex;\n",
              "      gap: 12px;\n",
              "    }\n",
              "\n",
              "    .colab-df-convert {\n",
              "      background-color: #E8F0FE;\n",
              "      border: none;\n",
              "      border-radius: 50%;\n",
              "      cursor: pointer;\n",
              "      display: none;\n",
              "      fill: #1967D2;\n",
              "      height: 32px;\n",
              "      padding: 0 0 0 0;\n",
              "      width: 32px;\n",
              "    }\n",
              "\n",
              "    .colab-df-convert:hover {\n",
              "      background-color: #E2EBFA;\n",
              "      box-shadow: 0px 1px 2px rgba(60, 64, 67, 0.3), 0px 1px 3px 1px rgba(60, 64, 67, 0.15);\n",
              "      fill: #174EA6;\n",
              "    }\n",
              "\n",
              "    .colab-df-buttons div {\n",
              "      margin-bottom: 4px;\n",
              "    }\n",
              "\n",
              "    [theme=dark] .colab-df-convert {\n",
              "      background-color: #3B4455;\n",
              "      fill: #D2E3FC;\n",
              "    }\n",
              "\n",
              "    [theme=dark] .colab-df-convert:hover {\n",
              "      background-color: #434B5C;\n",
              "      box-shadow: 0px 1px 3px 1px rgba(0, 0, 0, 0.15);\n",
              "      filter: drop-shadow(0px 1px 2px rgba(0, 0, 0, 0.3));\n",
              "      fill: #FFFFFF;\n",
              "    }\n",
              "  </style>\n",
              "\n",
              "    <script>\n",
              "      const buttonEl =\n",
              "        document.querySelector('#df-530992e0-a1d8-4969-a22f-d61b066b1d1e button.colab-df-convert');\n",
              "      buttonEl.style.display =\n",
              "        google.colab.kernel.accessAllowed ? 'block' : 'none';\n",
              "\n",
              "      async function convertToInteractive(key) {\n",
              "        const element = document.querySelector('#df-530992e0-a1d8-4969-a22f-d61b066b1d1e');\n",
              "        const dataTable =\n",
              "          await google.colab.kernel.invokeFunction('convertToInteractive',\n",
              "                                                    [key], {});\n",
              "        if (!dataTable) return;\n",
              "\n",
              "        const docLinkHtml = 'Like what you see? Visit the ' +\n",
              "          '<a target=\"_blank\" href=https://colab.research.google.com/notebooks/data_table.ipynb>data table notebook</a>'\n",
              "          + ' to learn more about interactive tables.';\n",
              "        element.innerHTML = '';\n",
              "        dataTable['output_type'] = 'display_data';\n",
              "        await google.colab.output.renderOutput(dataTable, element);\n",
              "        const docLink = document.createElement('div');\n",
              "        docLink.innerHTML = docLinkHtml;\n",
              "        element.appendChild(docLink);\n",
              "      }\n",
              "    </script>\n",
              "  </div>\n",
              "\n",
              "\n",
              "<div id=\"df-6d511243-507f-4664-9a91-3a42f8d1a695\">\n",
              "  <button class=\"colab-df-quickchart\" onclick=\"quickchart('df-6d511243-507f-4664-9a91-3a42f8d1a695')\"\n",
              "            title=\"Suggest charts\"\n",
              "            style=\"display:none;\">\n",
              "\n",
              "<svg xmlns=\"http://www.w3.org/2000/svg\" height=\"24px\"viewBox=\"0 0 24 24\"\n",
              "     width=\"24px\">\n",
              "    <g>\n",
              "        <path d=\"M19 3H5c-1.1 0-2 .9-2 2v14c0 1.1.9 2 2 2h14c1.1 0 2-.9 2-2V5c0-1.1-.9-2-2-2zM9 17H7v-7h2v7zm4 0h-2V7h2v10zm4 0h-2v-4h2v4z\"/>\n",
              "    </g>\n",
              "</svg>\n",
              "  </button>\n",
              "\n",
              "<style>\n",
              "  .colab-df-quickchart {\n",
              "      --bg-color: #E8F0FE;\n",
              "      --fill-color: #1967D2;\n",
              "      --hover-bg-color: #E2EBFA;\n",
              "      --hover-fill-color: #174EA6;\n",
              "      --disabled-fill-color: #AAA;\n",
              "      --disabled-bg-color: #DDD;\n",
              "  }\n",
              "\n",
              "  [theme=dark] .colab-df-quickchart {\n",
              "      --bg-color: #3B4455;\n",
              "      --fill-color: #D2E3FC;\n",
              "      --hover-bg-color: #434B5C;\n",
              "      --hover-fill-color: #FFFFFF;\n",
              "      --disabled-bg-color: #3B4455;\n",
              "      --disabled-fill-color: #666;\n",
              "  }\n",
              "\n",
              "  .colab-df-quickchart {\n",
              "    background-color: var(--bg-color);\n",
              "    border: none;\n",
              "    border-radius: 50%;\n",
              "    cursor: pointer;\n",
              "    display: none;\n",
              "    fill: var(--fill-color);\n",
              "    height: 32px;\n",
              "    padding: 0;\n",
              "    width: 32px;\n",
              "  }\n",
              "\n",
              "  .colab-df-quickchart:hover {\n",
              "    background-color: var(--hover-bg-color);\n",
              "    box-shadow: 0 1px 2px rgba(60, 64, 67, 0.3), 0 1px 3px 1px rgba(60, 64, 67, 0.15);\n",
              "    fill: var(--button-hover-fill-color);\n",
              "  }\n",
              "\n",
              "  .colab-df-quickchart-complete:disabled,\n",
              "  .colab-df-quickchart-complete:disabled:hover {\n",
              "    background-color: var(--disabled-bg-color);\n",
              "    fill: var(--disabled-fill-color);\n",
              "    box-shadow: none;\n",
              "  }\n",
              "\n",
              "  .colab-df-spinner {\n",
              "    border: 2px solid var(--fill-color);\n",
              "    border-color: transparent;\n",
              "    border-bottom-color: var(--fill-color);\n",
              "    animation:\n",
              "      spin 1s steps(1) infinite;\n",
              "  }\n",
              "\n",
              "  @keyframes spin {\n",
              "    0% {\n",
              "      border-color: transparent;\n",
              "      border-bottom-color: var(--fill-color);\n",
              "      border-left-color: var(--fill-color);\n",
              "    }\n",
              "    20% {\n",
              "      border-color: transparent;\n",
              "      border-left-color: var(--fill-color);\n",
              "      border-top-color: var(--fill-color);\n",
              "    }\n",
              "    30% {\n",
              "      border-color: transparent;\n",
              "      border-left-color: var(--fill-color);\n",
              "      border-top-color: var(--fill-color);\n",
              "      border-right-color: var(--fill-color);\n",
              "    }\n",
              "    40% {\n",
              "      border-color: transparent;\n",
              "      border-right-color: var(--fill-color);\n",
              "      border-top-color: var(--fill-color);\n",
              "    }\n",
              "    60% {\n",
              "      border-color: transparent;\n",
              "      border-right-color: var(--fill-color);\n",
              "    }\n",
              "    80% {\n",
              "      border-color: transparent;\n",
              "      border-right-color: var(--fill-color);\n",
              "      border-bottom-color: var(--fill-color);\n",
              "    }\n",
              "    90% {\n",
              "      border-color: transparent;\n",
              "      border-bottom-color: var(--fill-color);\n",
              "    }\n",
              "  }\n",
              "</style>\n",
              "\n",
              "  <script>\n",
              "    async function quickchart(key) {\n",
              "      const quickchartButtonEl =\n",
              "        document.querySelector('#' + key + ' button');\n",
              "      quickchartButtonEl.disabled = true;  // To prevent multiple clicks.\n",
              "      quickchartButtonEl.classList.add('colab-df-spinner');\n",
              "      try {\n",
              "        const charts = await google.colab.kernel.invokeFunction(\n",
              "            'suggestCharts', [key], {});\n",
              "      } catch (error) {\n",
              "        console.error('Error during call to suggestCharts:', error);\n",
              "      }\n",
              "      quickchartButtonEl.classList.remove('colab-df-spinner');\n",
              "      quickchartButtonEl.classList.add('colab-df-quickchart-complete');\n",
              "    }\n",
              "    (() => {\n",
              "      let quickchartButtonEl =\n",
              "        document.querySelector('#df-6d511243-507f-4664-9a91-3a42f8d1a695 button');\n",
              "      quickchartButtonEl.style.display =\n",
              "        google.colab.kernel.accessAllowed ? 'block' : 'none';\n",
              "    })();\n",
              "  </script>\n",
              "</div>\n",
              "\n",
              "    </div>\n",
              "  </div>\n"
            ],
            "application/vnd.google.colaboratory.intrinsic+json": {
              "type": "dataframe",
              "variable_name": "resultado",
              "summary": "{\n  \"name\": \"resultado\",\n  \"rows\": 8950,\n  \"fields\": [\n    {\n      \"column\": \"BALANCE\",\n      \"properties\": {\n        \"dtype\": \"number\",\n        \"std\": 4570.72804705044,\n        \"min\": -4921.547542580234,\n        \"max\": 60710.048557200615,\n        \"num_unique_values\": 8950,\n        \"samples\": [\n          273.36013832890006,\n          -2120.6796916495828,\n          -3453.1618586912064\n        ],\n        \"semantic_type\": \"\",\n        \"description\": \"\"\n      }\n    },\n    {\n      \"column\": \"BALANCE_FREQUENCY\",\n      \"properties\": {\n        \"dtype\": \"number\",\n        \"std\": 2793.771403280847,\n        \"min\": -17391.149069478877,\n        \"max\": 50225.19922165913,\n        \"num_unique_values\": 8950,\n        \"samples\": [\n          -1958.315817803511,\n          1040.590091563933,\n          649.9453661381618\n        ],\n        \"semantic_type\": \"\",\n        \"description\": \"\"\n      }\n    },\n    {\n      \"column\": \"PURCHASES\",\n      \"properties\": {\n        \"dtype\": \"number\",\n        \"std\": 2482.790286969597,\n        \"min\": -11740.515024743776,\n        \"max\": 48163.17294013557,\n        \"num_unique_values\": 8950,\n        \"samples\": [\n          -2966.8022007758736,\n          1031.81074122596,\n          -249.07299650879546\n        ],\n        \"semantic_type\": \"\",\n        \"description\": \"\"\n      }\n    },\n    {\n      \"column\": \"ONEOFF_PURCHASES\",\n      \"properties\": {\n        \"dtype\": \"number\",\n        \"std\": 2233.1837659281014,\n        \"min\": -35144.83253490083,\n        \"max\": 51708.14350761808,\n        \"num_unique_values\": 8950,\n        \"samples\": [\n          178.3570973966137,\n          -1090.2330838818011,\n          21.85560218290071\n        ],\n        \"semantic_type\": \"\",\n        \"description\": \"\"\n      }\n    },\n    {\n      \"column\": \"INSTALLMENTS_PURCHASES\",\n      \"properties\": {\n        \"dtype\": \"number\",\n        \"std\": 1453.2793211113426,\n        \"min\": -10771.231277930427,\n        \"max\": 18191.05164135089,\n        \"num_unique_values\": 8950,\n        \"samples\": [\n          1636.3331271706952,\n          30.79001363558606,\n          216.45301644665355\n        ],\n        \"semantic_type\": \"\",\n        \"description\": \"\"\n      }\n    },\n    {\n      \"column\": \"CASH_ADVANCE\",\n      \"properties\": {\n        \"dtype\": \"number\",\n        \"std\": 1092.636570833147,\n        \"min\": -10329.000286544202,\n        \"max\": 19157.465932111776,\n        \"num_unique_values\": 8950,\n        \"samples\": [\n          -493.71534670747985,\n          -622.1566498965099,\n          -35.16684850740078\n        ],\n        \"semantic_type\": \"\",\n        \"description\": \"\"\n      }\n    },\n    {\n      \"column\": \"PURCHASES_FREQUENCY\",\n      \"properties\": {\n        \"dtype\": \"number\",\n        \"std\": 890.6449724759663,\n        \"min\": -13485.958065886436,\n        \"max\": 22707.70523300565,\n        \"num_unique_values\": 8950,\n        \"samples\": [\n          -301.98150927333353,\n          -109.86365682030286,\n          166.30499628690043\n        ],\n        \"semantic_type\": \"\",\n        \"description\": \"\"\n      }\n    }\n  ]\n}"
            }
          },
          "metadata": {},
          "execution_count": 26
        }
      ]
    },
    {
      "cell_type": "markdown",
      "source": [
        "Essas 7 colunas são responsáveis por explicar quase completamente a variância dos dados."
      ],
      "metadata": {
        "id": "diNBD6vFOKtl"
      }
    },
    {
      "cell_type": "code",
      "source": [
        "pca.explained_variance_ratio_.sum()"
      ],
      "metadata": {
        "colab": {
          "base_uri": "https://localhost:8080/"
        },
        "id": "Im9VyTd8IpoS",
        "outputId": "76be1b1f-2feb-46dd-b1cd-8864c1c0f01b"
      },
      "execution_count": 27,
      "outputs": [
        {
          "output_type": "execute_result",
          "data": {
            "text/plain": [
              "0.9999920055384811"
            ]
          },
          "metadata": {},
          "execution_count": 27
        }
      ]
    },
    {
      "cell_type": "markdown",
      "source": [
        "Com essas colunas, realiza-se a visualização da correlação entre as variáveis."
      ],
      "metadata": {
        "id": "umt4d6V5OTCi"
      }
    },
    {
      "cell_type": "code",
      "source": [
        "correlacao = dados[['cluster',\n",
        "  'BALANCE',\n",
        "  'BALANCE_FREQUENCY',\n",
        "  'PURCHASES',\n",
        "  'ONEOFF_PURCHASES',\n",
        "  'INSTALLMENTS_PURCHASES',\n",
        "  'CASH_ADVANCE',\n",
        "  'PURCHASES_FREQUENCY']].corr()"
      ],
      "metadata": {
        "id": "WLAtk3FRJReX"
      },
      "execution_count": 28,
      "outputs": []
    },
    {
      "cell_type": "markdown",
      "source": [
        "Pode-se notar o poder explicativo das características aqui, dentre as quais destacam-se saldo restante e a frequência que este saldo é alterado."
      ],
      "metadata": {
        "id": "dAdk8L3aOdrS"
      }
    },
    {
      "cell_type": "code",
      "source": [
        "cores = sns.color_palette('light:salmon', as_cmap=True)\n",
        "mascara = np.zeros_like(correlacao)\n",
        "mascara[np.triu_indices_from(mascara)] = True\n",
        "with sns.axes_style(\"white\"):\n",
        "  f, ax = plt.subplots(figsize = (13,8))\n",
        "  ax = sns.heatmap(correlacao, cmap = cores, mask = mascara, square = True, fmt = '.2f', annot = True)\n",
        "  ax.set_title('Correlação entre variáveis', fontsize=20)"
      ],
      "metadata": {
        "colab": {
          "base_uri": "https://localhost:8080/",
          "height": 867
        },
        "id": "bMiud9f1Jk8F",
        "outputId": "a2fb6002-6ce7-4900-8342-6702e58b6587"
      },
      "execution_count": 29,
      "outputs": [
        {
          "output_type": "display_data",
          "data": {
            "text/plain": [
              "<Figure size 1300x800 with 2 Axes>"
            ],
            "image/png": "[encoded data removed]"
          },
          "metadata": {}
        }
      ]
    },
    {
      "cell_type": "markdown",
      "source": [
        "## Teste do modelo"
      ],
      "metadata": {
        "id": "_WPWbIrOPAR5"
      }
    },
    {
      "cell_type": "markdown",
      "source": [
        "Vamos criar um cliente fictício que tenha um bom saldo em conta, um alto limite, que faça poucas compras e veremos como o modelo classifica a pessoa. Segundo essas características é mais provável que faça parte do Cluster 4."
      ],
      "metadata": {
        "id": "nIFYVfhdT8MI"
      }
    },
    {
      "cell_type": "code",
      "source": [
        "dados_cliente = pd.DataFrame({\n",
        "  'BALANCE': [2500.0],\n",
        "  'BALANCE_FREQUENCY': [0.500000],\n",
        "  'PURCHASES': [25.00000],\n",
        "  'ONEOFF_PURCHASES': [0.000000],\n",
        "  'INSTALLMENTS_PURCHASES': [25.00000],\n",
        "  'CASH_ADVANCE': [1000.000000],\n",
        "  'PURCHASES_FREQUENCY': [0.5],\n",
        "  'ONEOFF_PURCHASES_FREQUENCY': [0.000000],\n",
        "  'PURCHASES_INSTALLMENTS_FREQUENCY': [0.5],\n",
        "  'CASH_ADVANCE_FREQUENCY': [0.500000],\n",
        "  'CASH_ADVANCE_TRX': [0.000000],\n",
        "  'PURCHASES_TRX': [5.000000],\n",
        "  'CREDIT_LIMIT': [5000.000000],\n",
        "  'PAYMENTS': [2000.0],\n",
        "  'MINIMUM_PAYMENTS': [500.00000],\n",
        "  'PRC_FULL_PAYMENT': [0.000000 ]\n",
        "})"
      ],
      "metadata": {
        "id": "ajBwkMFlO_xG"
      },
      "execution_count": 30,
      "outputs": []
    },
    {
      "cell_type": "code",
      "source": [
        "predicao_cliente = modelo.predict(dados_cliente)\n",
        "print('O cliente pertence ao Cluster', predicao_cliente[0])"
      ],
      "metadata": {
        "colab": {
          "base_uri": "https://localhost:8080/"
        },
        "id": "H3DaZw3YS2Zi",
        "outputId": "2e093748-c3cd-4456-a0fe-a0fa63dba4ee"
      },
      "execution_count": 31,
      "outputs": [
        {
          "output_type": "stream",
          "name": "stdout",
          "text": [
            "O cliente pertence ao Cluster 4\n"
          ]
        },
        {
          "output_type": "stream",
          "name": "stderr",
          "text": [
            "/usr/local/lib/python3.10/dist-packages/sklearn/base.py:432: UserWarning: X has feature names, but KMeans was fitted without feature names\n",
            "  warnings.warn(\n"
          ]
        }
      ]
    },
    {
      "cell_type": "markdown",
      "source": [
        "## Exportação do modelo"
      ],
      "metadata": {
        "id": "KU7FUAogT1Kj"
      }
    },
    {
      "cell_type": "markdown",
      "source": [
        "Vamos exportar o modelo para utilizar em outra situação."
      ],
      "metadata": {
        "id": "vYSZn7Z9T4Mk"
      }
    },
    {
      "cell_type": "code",
      "source": [
        "import pickle\n",
        "output = open('modelo', 'wb')\n",
        "pickle.dump(modelo, output)\n",
        "output.close()"
      ],
      "metadata": {
        "id": "bLDtgC9CTSLv"
      },
      "execution_count": 33,
      "outputs": []
    }
  ]
}